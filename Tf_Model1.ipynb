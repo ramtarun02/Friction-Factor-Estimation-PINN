{
 "cells": [
  {
   "cell_type": "code",
   "execution_count": 1,
   "metadata": {},
   "outputs": [],
   "source": [
    "import tensorflow as tf\n",
    "tf.compat.v1.enable_eager_execution()\n",
    "import numpy as np\n",
    "import keras\n",
    "import scipy\n",
    "import matplotlib.pyplot as plt\n",
    "from time import time\n"
   ]
  },
  {
   "cell_type": "code",
   "execution_count": 2,
   "metadata": {},
   "outputs": [],
   "source": [
    "def DataPreprocessing(data, ff):\n",
    "\n",
    "    fmat = {0.1:data['sbsl_PINN'][0][0], 0.08:data['sbsl_PINN'][1][0], 0.06:data['sbsl_PINN'][2][0], 0.04:data['sbsl_PINN'][3][0], 0.02:data['sbsl_PINN'][4][0], 0.01:data['sbsl_PINN'][5][0], 0.005:data['sbsl_PINN'][6][0], 0.0:data['sbsl_PINN'][7][0]}\n",
    "    fval = [0.1  , 0.08 , 0.06 , 0.04 , 0.02 , 0.01 , 0.005, 0.000]\n",
    "    i = ff\n",
    "    N = fmat[i].shape[1]\n",
    "    U = np.zeros((N,4))\n",
    "    U[:,0] = data['eta']\n",
    "    U[:,1] = fmat[i][0,:]\n",
    "    U[:,2] = fmat[i][1,:]\n",
    "    U[:,3] = fmat[i][2,:]\n",
    "    #U[:,4] = torch.from_numpy(np.array([0.06]))\n",
    "\n",
    "    D = np.array(data['D'])\n",
    "    M = np.array(data['M'])\n",
    "    u = np.array(data['ubar'])\n",
    "    dMdx = np.array(data['dMdx'])\n",
    "    dudx = np.array(data['dudx'])\n",
    "    alpha = np.array(data['alp'])\n",
    "    eta1 = np.array(data['eta'])   \n",
    "\n",
    "    meanflow = np.zeros((D.shape[1],7))\n",
    "    meanflow[:,0] = D\n",
    "    meanflow[:,1] = M\n",
    "    meanflow[:,2] = u\n",
    "    meanflow[:,3] = dMdx\n",
    "    meanflow[:,4] = dudx\n",
    "    meanflow[:,5] = alpha\n",
    "    meanflow[:,6] = eta1\n",
    "    #meanflow = torch.tile(meanflow, (8,1))\n",
    "\n",
    "    he = np.array([0.00])\n",
    "    HE = np.tile(he, (N,1)) \n",
    "    #He = HE.flatten()[:,None]\n",
    "\n",
    "    uu = U[:, 1:4]\n",
    "    uu0 = U[:,0]\n",
    "    uu0 = uu0.flatten()[:, None]\n",
    "\n",
    "    input_set = np.concatenate([HE, uu0],1)\n",
    "\n",
    "    return input_set, uu, meanflow"
   ]
  },
  {
   "cell_type": "code",
   "execution_count": 3,
   "metadata": {},
   "outputs": [],
   "source": [
    "data = scipy.io.loadmat('/Users/ramtarun/Desktop/Cambridge/Indirect-Noise-in-Nozzles/Data/Data_PINN_subsonic_geom_linvelsup_f0-0.1.mat')\n",
    "inputs, targets, meanflow = DataPreprocessing(data, ff=0.01)"
   ]
  },
  {
   "cell_type": "code",
   "execution_count": 4,
   "metadata": {},
   "outputs": [
    {
     "data": {
      "text/plain": [
       "(1001, 2)"
      ]
     },
     "execution_count": 4,
     "metadata": {},
     "output_type": "execute_result"
    }
   ],
   "source": [
    "inputs.shape"
   ]
  },
  {
   "cell_type": "code",
   "execution_count": 5,
   "metadata": {},
   "outputs": [],
   "source": [
    "\n",
    "def split_data(U, b_size, n_batches):\n",
    "    '''\n",
    "    Splits the data in batches. Each batch is created by sampling the signal with interval\n",
    "    equal to n_batches.\n",
    "    '''\n",
    "    data   = np.zeros((n_batches, b_size, U.shape[1]), dtype=float)    \n",
    "    for j in range(n_batches):\n",
    "        data[j,:b_size] = U[::skip][j::n_batches].copy()\n",
    "\n",
    "    return data"
   ]
  },
  {
   "cell_type": "code",
   "execution_count": 6,
   "metadata": {},
   "outputs": [],
   "source": [
    "skip = 5\n",
    "b_size = 10\n",
    "n_batches = 20\n",
    "val_batches = n_batches//25   #validation batches"
   ]
  },
  {
   "cell_type": "code",
   "execution_count": 7,
   "metadata": {},
   "outputs": [],
   "source": [
    "x_tt = inputs[:b_size*n_batches*skip].copy()\n",
    "y_tt = targets[:b_size*n_batches*skip].copy()\n",
    "m_tt = meanflow[:b_size*n_batches*skip].copy()\n",
    "\n",
    "Y_train     = split_data(y_tt, b_size, n_batches).astype(dtype=np.float32)\n",
    "X_train     = split_data(x_tt, b_size, n_batches).astype(dtype=np.float32)\n",
    "Meanflow_train = split_data(m_tt, b_size, n_batches).astype(dtype=np.float32)"
   ]
  },
  {
   "cell_type": "code",
   "execution_count": 8,
   "metadata": {},
   "outputs": [
    {
     "name": "stdout",
     "output_type": "stream",
     "text": [
      "Train Data % : 99.9001\n",
      "Validation Data % : 0.0000\n"
     ]
    }
   ],
   "source": [
    "x_vv        = inputs[b_size*n_batches*skip:b_size*n_batches*skip+b_size*val_batches*skip:].copy()\n",
    "Y_vv        = targets[b_size*n_batches*skip:b_size*n_batches*skip+b_size*val_batches*skip:].copy()\n",
    "meanflow_vv = meanflow[b_size*n_batches*skip:b_size*n_batches*skip+b_size*val_batches*skip:].copy()\n",
    "Y_val       = split_data(Y_vv, b_size, val_batches).astype(dtype=np.float32) \n",
    "X_val       = split_data(x_vv, b_size, val_batches).astype(dtype=np.float32)\n",
    "Meanflow_val = split_data(meanflow_vv, b_size, val_batches).astype(dtype=np.float32)\n",
    "\n",
    "#how much of the data we are using for training\n",
    "print(f\"Train Data % : {((b_size*n_batches*skip/inputs.shape[0])*100):.4f}\")\n",
    "print(f\"Validation Data % : {((b_size*val_batches*skip/inputs.shape[0])*100):.4f}\")\n"
   ]
  },
  {
   "cell_type": "code",
   "execution_count": 9,
   "metadata": {},
   "outputs": [
    {
     "name": "stderr",
     "output_type": "stream",
     "text": [
      "2023-08-12 19:23:04.586436: I metal_plugin/src/device/metal_device.cc:1154] Metal device set to: Apple M1\n",
      "2023-08-12 19:23:04.586458: I metal_plugin/src/device/metal_device.cc:296] systemMemory: 16.00 GB\n",
      "2023-08-12 19:23:04.586465: I metal_plugin/src/device/metal_device.cc:313] maxCacheSize: 5.33 GB\n",
      "2023-08-12 19:23:04.586660: I tensorflow/core/common_runtime/pluggable_device/pluggable_device_factory.cc:303] Could not identify NUMA node of platform GPU ID 0, defaulting to 0. Your kernel may not have been built with NUMA support.\n",
      "2023-08-12 19:23:04.586678: I tensorflow/core/common_runtime/pluggable_device/pluggable_device_factory.cc:269] Created TensorFlow device (/job:localhost/replica:0/task:0/device:GPU:0 with 0 MB memory) -> physical PluggableDevice (device: 0, name: METAL, pci bus id: <undefined>)\n"
     ]
    }
   ],
   "source": [
    "X_train = tf.Variable(X_train)\n",
    "Y_train = tf.Variable(Y_train)\n",
    "Meanflow_train = tf.Variable(Meanflow_train)\n",
    "# X_train"
   ]
  },
  {
   "cell_type": "code",
   "execution_count": 10,
   "metadata": {},
   "outputs": [],
   "source": [
    "def RHS_ff_t(y, baseflow, f):\n",
    "\n",
    "    pi_p, pi_m, sig = tf.unstack(y,axis=1)\n",
    "\n",
    "    D = baseflow[:,0]\n",
    "    M = baseflow[:,1]\n",
    "    u = baseflow[:,2]\n",
    "    dMdx = baseflow[:,3]\n",
    "    dudx = baseflow[:,4]\n",
    "    alpha = baseflow[:,5]\n",
    "    eta1 = baseflow[:,6]    \n",
    "    \n",
    "    He = 0#a constant input\n",
    "\n",
    "    gamma = 1.4#constant\n",
    "    \n",
    "    Msq = tf.math.square(M)\n",
    "\n",
    "    Lambda = 1 + Msq * (gamma-1)/2\n",
    "    zeta = f*gamma*Msq - 2*tf.math.tan(alpha)\n",
    "    C1= ((gamma - 1)*(1-Msq)*f)/(2*Lambda*zeta)\n",
    "    Ca = -C1*M*u*dMdx*(2-(2*Msq/(1-Msq)) - (2*gamma*Msq*(-2*f*Lambda - (gamma-1)/gamma *zeta)/(2*Lambda*zeta)))\n",
    "    Ff = -(dudx + (4*f*u/(2*D)))\n",
    "\n",
    "    denom = (M**2*u - u + C1*Msq *u + C1*Msq*Msq*gamma*u) #M**4\n",
    "    vrh_p = M*(2*(1-M) + C1*M*(M-2+M*gamma*(1-2*M)))/(2*denom)\n",
    "    vrh_m = -M*(2*(1+M) + C1*M*(M+2+M*gamma*(1+2*M)))/(2*denom)\n",
    "    vkp_p = Msq*C1*(2+M*(gamma-1))/(2*denom)\n",
    "    vkp_m = Msq*C1*(2-M*(gamma-1))/(2*denom)\n",
    "    vth_p = C1*M*(M*(1+gamma) + M**2*(1-gamma) - 2)/denom\n",
    "    vth_m = C1*M*(M*(1+gamma) - M**2*(1-gamma) + 2)/denom\n",
    "    vsig = -(C1*Msq*(1+gamma*Msq) + Msq - 1)/denom\n",
    "    calM = dMdx/(2*M)\n",
    "    kp_p = (gamma - 1) + (2/M)\n",
    "    kp_m = (gamma - 1) - (2/M)\n",
    "    Gm_p = M*(Ca*(M + 1) + Ff*M*(C1*gamma*M*Msq + M + (1 - C1*Msq)))/(2*denom)\n",
    "    Gm_m = M*(Ca*(M - 1) - Ff*M*(C1*gamma*M*Msq + M - (1 - C1*Msq)))/(2*denom)\n",
    "    Ups = (Ca*(Msq - 1) - C1*Ff*Msq*Msq *(1+gamma))/denom\n",
    "    \n",
    "#     eq1 = - (2*np.pi*1j*He*vrh_p + Gm_m*kp_m + calM)*pi_p + (2*np.pi*1j*He*vkp_p + Gm_m*kp_p + calM)*pi_m - Gm_m*sig\n",
    "#     eq2 = - (2*np.pi*1j*He*vkp_m + Gm_p*kp_m - calM)*pi_p - (2*np.pi*1j*He*vrh_m + Gm_p*kp_p + calM)*pi_m - Gm_m*sig\n",
    "#     eq3 = - (2*np.pi*1j*He*vth_p + Ups*kp_m)*pi_p - (2*np.pi*1j*He*vth_m + Ups*kp_p)*pi_m - (2*np.pi*1j*He*vsig + Ups)*sig\n",
    "    \n",
    "#     eq1 = - tf.multiply((Gm_m*kp_m + calM),pi_p) + tf.multiply(( Gm_m*kp_p + calM),pi_m) - tf.multiply(Gm_m,sig)\n",
    "    eq1 =  (Gm_m*kp_m + calM)*pi_p + ( Gm_m*kp_p - calM)*pi_m + Gm_m*sig\n",
    "    eq2 =  ( Gm_p*kp_m - calM)*pi_p + ( Gm_p*kp_p + calM)*pi_m + Gm_m*sig\n",
    "    eq3 =  ( Ups*kp_m)*pi_p + ( Ups*kp_p)*pi_m + (Ups)*sig\n",
    "    \n",
    "\n",
    "    rhs = tf.stack([-eq1, -eq2, -eq3],axis=1)\n",
    "\n",
    "    return rhs"
   ]
  },
  {
   "cell_type": "code",
   "execution_count": 11,
   "metadata": {},
   "outputs": [],
   "source": [
    "def pde_residual(r_n, gr):\n",
    "    return r_n + gr"
   ]
  },
  {
   "cell_type": "code",
   "execution_count": 12,
   "metadata": {},
   "outputs": [],
   "source": [
    "def init_model(num_hidden_layers, num_neurons_per_layer):\n",
    "\n",
    "    ### Keras Sequential API \n",
    "    # # Initialize a feedforward neural network\n",
    "    # model = tf.keras.Sequential()\n",
    "\n",
    "    # # Input is two-dimensional (He + one spatial dimension)\n",
    "    # model.add(tf.keras.Input(2))\n",
    "\n",
    "    # # Append hidden layers\n",
    "    # for _ in range(num_hidden_layers):\n",
    "    #     model.add(tf.keras.layers.Dense(num_neurons_per_layer,\n",
    "    #         activation=tf.keras.activations.get('tanh'),\n",
    "    #         kernel_initializer='glorot_normal'))\n",
    "\n",
    "    # # Output is one-dimensional\n",
    "    # model.add(tf.keras.layers.Dense(3, name='Travelling_Waves'))\n",
    "    # model.add(tf.keras.layers.Dense(1, name='Friction_Factor'))\n",
    "\n",
    "    ### Keras Functional API\n",
    "    inputs = keras.Input(shape= (None,2))\n",
    "    x = inputs\n",
    "    for _ in range(num_hidden_layers):\n",
    "        x = keras.layers.Dense(num_neurons_per_layer, activation='tanh')(x)\n",
    "\n",
    "    outputs1 = keras.layers.Dense(3, activation='sigmoid', name='State_Vector')(x)\n",
    "    outputs2 = keras.layers.Dense(1, activation='sigmoid', name='Friction_Factor')(x)  # Assuming two outputs for regression tasks\n",
    "\n",
    "\n",
    "\n",
    "    model = keras.Model(inputs=inputs, outputs=[outputs1, outputs2])\n",
    "    \n",
    "    return model\n",
    "\n"
   ]
  },
  {
   "cell_type": "code",
   "execution_count": 13,
   "metadata": {},
   "outputs": [],
   "source": [
    "def get_r(model, X_r, baseflow):\n",
    "    \n",
    "    # A tf.GradientTape is used to compute derivatives in TensorFlow\n",
    "    with tf.GradientTape(persistent=True) as tape:\n",
    "        # Split t and x to compute partial derivatives\n",
    "        # he, n = X_r[:, 0], X_r[:,1]\n",
    "\n",
    "        # Variables t and x are watched during tape\n",
    "        # to compute derivatives u_t and u_x\n",
    "        tape.watch(X_r)\n",
    "        # tape.watch(n)\n",
    "\n",
    "        # Determine residual \n",
    "        r, f = model(X_r)\n",
    "        f_mean = tf.reduce_mean(f)\n",
    "        # Compute gradient r_n within the GradientTape\n",
    "        # if we need second derivatives\n",
    "    r_n = tape.gradient(r,X_r)\n",
    "    r_n = tf.reshape(r_n[:,1], [b_size,1])\n",
    "    del tape\n",
    "    # pde_residual(r_n, RHS_ff_t(r, baseflow, f_mean))\n",
    "    return pde_residual(r_n, RHS_ff_t(r, baseflow, f_mean))"
   ]
  },
  {
   "cell_type": "code",
   "execution_count": 14,
   "metadata": {},
   "outputs": [],
   "source": [
    "def compute_loss(model, X_r, Y_r, baseflow):\n",
    "    \n",
    "    # Compute phi^r\n",
    "    r = get_r(model, X_r, baseflow)\n",
    "    phi_r = tf.reduce_mean(tf.square(r))\n",
    "    \n",
    "    # Initialize loss\n",
    "    loss = 0.0001*phi_r\n",
    "    \n",
    "    # # Add phi^0 and phi^b to the loss\n",
    "    # for i in range(len(X_data)):\n",
    "    #     u_pred = model(X_data[i])\n",
    "    #     loss += tf.reduce_mean(tf.square(u_data[i] - u_pred))\n",
    "\n",
    "    pred, f = model(X_r)\n",
    "    loss += tf.reduce_mean(tf.square(pred - Y_r))\n",
    "    \n",
    "    return loss"
   ]
  },
  {
   "cell_type": "code",
   "execution_count": 15,
   "metadata": {},
   "outputs": [],
   "source": [
    "def get_grad(model, X_r, Y_r, baseflow):\n",
    "    \n",
    "    with tf.GradientTape(persistent=True) as tape:\n",
    "        # This tape is for derivatives with\n",
    "        # respect to trainable variables\n",
    "        tape.watch(model.trainable_variables)\n",
    "        loss = compute_loss(model, X_r, Y_r, baseflow)\n",
    "\n",
    "    g = tape.gradient(loss, model.trainable_variables)\n",
    "    del tape\n",
    "\n",
    "    return loss, g"
   ]
  },
  {
   "cell_type": "code",
   "execution_count": null,
   "metadata": {},
   "outputs": [],
   "source": []
  },
  {
   "cell_type": "code",
   "execution_count": 16,
   "metadata": {},
   "outputs": [
    {
     "name": "stdout",
     "output_type": "stream",
     "text": [
      "Model: \"model\"\n",
      "__________________________________________________________________________________________________\n",
      " Layer (type)                Output Shape                 Param #   Connected to                  \n",
      "==================================================================================================\n",
      " input_1 (InputLayer)        [(None, None, 2)]            0         []                            \n",
      "                                                                                                  \n",
      " dense (Dense)               (None, None, 8)              24        ['input_1[0][0]']             \n",
      "                                                                                                  \n",
      " dense_1 (Dense)             (None, None, 8)              72        ['dense[0][0]']               \n",
      "                                                                                                  \n",
      " dense_2 (Dense)             (None, None, 8)              72        ['dense_1[0][0]']             \n",
      "                                                                                                  \n",
      " dense_3 (Dense)             (None, None, 8)              72        ['dense_2[0][0]']             \n",
      "                                                                                                  \n",
      " State_Vector (Dense)        (None, None, 3)              27        ['dense_3[0][0]']             \n",
      "                                                                                                  \n",
      " Friction_Factor (Dense)     (None, None, 1)              9         ['dense_3[0][0]']             \n",
      "                                                                                                  \n",
      "==================================================================================================\n",
      "Total params: 276 (1.08 KB)\n",
      "Trainable params: 276 (1.08 KB)\n",
      "Non-trainable params: 0 (0.00 Byte)\n",
      "__________________________________________________________________________________________________\n"
     ]
    }
   ],
   "source": [
    "num_hidden_layers = 4\n",
    "num_neurons_per_layer = 8\n",
    "# Initialize model aka u_\\theta\n",
    "model = init_model(num_hidden_layers, num_neurons_per_layer)\n",
    "\n",
    "# We choose a piecewise decay of the learning rate, i.e., the\n",
    "# step size in the gradient descent type algorithm\n",
    "# the first 1000 steps use a learning rate of 0.01\n",
    "# from 1000 - 3000: learning rate = 0.001\n",
    "# from 3000 onwards: learning rate = 0.0005\n",
    "\n",
    "# lr = tf.keras.optimizers.schedules.PiecewiseConstantDecay([1000,3000],[1e-2,1e-3,5e-4])\n",
    "lr = tf.keras.optimizers.schedules.ExponentialDecay(\n",
    "    initial_learning_rate = 0.001,\n",
    "    decay_steps=1000,\n",
    "    decay_rate=0.90,\n",
    "    staircase=True)\n",
    "\n",
    "\n",
    "# Choose the optimizer\n",
    "optim = tf.keras.optimizers.legacy.Adam(learning_rate=lr)\n",
    "model.summary()\n"
   ]
  },
  {
   "cell_type": "code",
   "execution_count": 64,
   "metadata": {},
   "outputs": [],
   "source": [
    "class CustomProgbarLogger(tf.keras.callbacks.Callback):\n",
    "    def __init__(self, print_frequency, progbar_length, count_mode='steps'):\n",
    "        super(CustomProgbarLogger, self).__init__()\n",
    "        self.count_mode = count_mode\n",
    "        self.print_frequency = print_frequency\n",
    "        self.progbar_length = progbar_length\n",
    "\n",
    "    def on_train_begin(self, logs=None):\n",
    "        self.epochs = self.params['epochs']\n",
    "        self.steps_per_epoch = self.params['steps']\n",
    "        self.total_batches = self.epochs * self.steps_per_epoch\n",
    "        self.target = self.total_batches if self.count_mode == 'steps' else self.epochs\n",
    "        \n",
    "\n",
    "    def on_epoch_begin(self, epoch, logs=None):\n",
    "        self.epoch = epoch\n",
    "        self.batch_index = 0\n",
    "        self.progbar = tf.keras.utils.Progbar(target=self.steps_per_epoch, verbose=1)\n",
    "        \n",
    "\n",
    "    def on_batch_end(self, batch, logs=None):\n",
    "        self.batch_index += 1\n",
    "        # if self.count_mode == 'steps':\n",
    "        #     self.progbar.update(self.batch_index, [('loss', logs['loss'])], finalize=False)\n",
    "        # else:\n",
    "        #     self.progbar.update(self.epoch * self.steps_per_epoch + self.batch_index, [('loss', logs['loss'])], finalize=False)\n",
    "\n",
    "    def on_epoch_end(self, epoch, logs=None):\n",
    "        # self.progbar.update(self.epoch * self.steps_per_epoch + self.steps_per_epoch, [('loss', logs['loss'])], finalize=True)\n",
    "        # if (self.epoch + 1) % self.print_frequency == 0 or self.epoch == self.epochs - 1:\n",
    "        #     print()\n",
    "         if (self.epoch + 1) % self.print_frequency == 0 or self.epoch == self.epochs - 1:\n",
    "            # Calculate the progress percentage\n",
    "            progress = (self.epoch + 1) / self.epochs * 100\n",
    "\n",
    "            # Truncate the progress percentage to two decimal places\n",
    "            progress_str = \"{:.2f}\".format(progress)\n",
    "\n",
    "            # Set the progress bar length\n",
    "            filled_length = int(self.progbar_length * (self.epoch + 1) / self.epochs)\n",
    "            bar = '=' * filled_length + '-' * (self.progbar_length - filled_length)\n",
    "\n",
    "            print(f\"Epoch {self.epoch + 1}/{self.epochs} [{bar}] - {progress_str}% - loss: {logs['loss']:.4f}\")\n",
    "\n",
    "        \n",
    "\n",
    "    def on_train_end(self, logs=None):\n",
    "        pass\n",
    "\n",
    "    def set_params(self, params):\n",
    "        self.params = params\n",
    "        self.progbar = tf.keras.utils.Progbar(target=self.target, verbose=1)"
   ]
  },
  {
   "cell_type": "code",
   "execution_count": 65,
   "metadata": {},
   "outputs": [],
   "source": [
    "# Create an instance of the CustomProgbarLogger\n",
    "progbar_logger = CustomProgbarLogger(count_mode='steps', print_frequency=100, progbar_length=30)\n"
   ]
  },
  {
   "cell_type": "code",
   "execution_count": 66,
   "metadata": {},
   "outputs": [],
   "source": [
    "# Define one training step as a TensorFlow function to increase speed of training\n",
    "@tf.function\n",
    "def train_step(X_r, Y_r, baseflow):\n",
    "\n",
    "    # Compute current loss and gradient w.r.t. parameters\n",
    "    loss, grad_theta = get_grad(model, X_r, Y_r, baseflow)\n",
    "    \n",
    "    # Perform gradient descent step\n",
    "    optim.apply_gradients(zip(grad_theta, model.trainable_variables))\n",
    "    \n",
    "    return loss\n"
   ]
  },
  {
   "cell_type": "code",
   "execution_count": 67,
   "metadata": {},
   "outputs": [],
   "source": [
    "# Number of training epochs\n",
    "N = 7500\n",
    "hist = np.zeros(N+1)\n",
    "progbar_logger.params = {'epochs': N, 'steps': n_batches}\n",
    "progbar = tf.keras.utils.Progbar(N, stateful_metrics=[\"loss\"])\n",
    "\n"
   ]
  },
  {
   "cell_type": "code",
   "execution_count": 68,
   "metadata": {},
   "outputs": [
    {
     "name": "stderr",
     "output_type": "stream",
     "text": [
      "2023-07-25 21:35:10.589222: I tensorflow/core/grappler/optimizers/custom_graph_optimizer_registry.cc:114] Plugin optimizer for device_type GPU is enabled.\n"
     ]
    },
    {
     "name": "stdout",
     "output_type": "stream",
     "text": [
      "Epoch 100/7500 [------------------------------] - 1.33% - loss: 0.0219\n",
      "Epoch 200/7500 [------------------------------] - 2.67% - loss: 0.0215\n",
      "Epoch 300/7500 [=-----------------------------] - 4.00% - loss: 0.0204\n",
      "Epoch 400/7500 [=-----------------------------] - 5.33% - loss: 0.0180\n",
      "Epoch 500/7500 [==----------------------------] - 6.67% - loss: 0.0136\n",
      "Epoch 600/7500 [==----------------------------] - 8.00% - loss: 0.0087\n",
      "Epoch 700/7500 [==----------------------------] - 9.33% - loss: 0.0051\n",
      "Epoch 800/7500 [===---------------------------] - 10.67% - loss: 0.0031\n",
      "Epoch 900/7500 [===---------------------------] - 12.00% - loss: 0.0023\n",
      "Epoch 1000/7500 [====--------------------------] - 13.33% - loss: 0.0019\n",
      "Epoch 1100/7500 [====--------------------------] - 14.67% - loss: 0.0017\n",
      "Epoch 1200/7500 [====--------------------------] - 16.00% - loss: 0.0016\n",
      "Epoch 1300/7500 [=====-------------------------] - 17.33% - loss: 0.0016\n",
      "Epoch 1400/7500 [=====-------------------------] - 18.67% - loss: 0.0015\n",
      "Epoch 1500/7500 [======------------------------] - 20.00% - loss: 0.0015\n",
      "Epoch 1600/7500 [======------------------------] - 21.33% - loss: 0.0015\n",
      "Epoch 1700/7500 [======------------------------] - 22.67% - loss: 0.0015\n",
      "Epoch 1800/7500 [=======-----------------------] - 24.00% - loss: 0.0014\n",
      "Epoch 1900/7500 [=======-----------------------] - 25.33% - loss: 0.0014\n",
      "Epoch 2000/7500 [========----------------------] - 26.67% - loss: 0.0014\n",
      "Epoch 2100/7500 [========----------------------] - 28.00% - loss: 0.0014\n",
      "Epoch 2200/7500 [========----------------------] - 29.33% - loss: 0.0014\n",
      "Epoch 2300/7500 [=========---------------------] - 30.67% - loss: 0.0014\n",
      "Epoch 2400/7500 [=========---------------------] - 32.00% - loss: 0.0014\n",
      "Epoch 2500/7500 [==========--------------------] - 33.33% - loss: 0.0014\n",
      "Epoch 2600/7500 [==========--------------------] - 34.67% - loss: 0.0014\n",
      "Epoch 2700/7500 [==========--------------------] - 36.00% - loss: 0.0014\n",
      "Epoch 2800/7500 [===========-------------------] - 37.33% - loss: 0.0014\n",
      "Epoch 2900/7500 [===========-------------------] - 38.67% - loss: 0.0014\n",
      "Epoch 3000/7500 [============------------------] - 40.00% - loss: 0.0014\n",
      "Epoch 3100/7500 [============------------------] - 41.33% - loss: 0.0014\n",
      "Epoch 3200/7500 [============------------------] - 42.67% - loss: 0.0014\n",
      "Epoch 3300/7500 [=============-----------------] - 44.00% - loss: 0.0014\n",
      "Epoch 3400/7500 [=============-----------------] - 45.33% - loss: 0.0014\n",
      "Epoch 3500/7500 [==============----------------] - 46.67% - loss: 0.0014\n",
      "Epoch 3600/7500 [==============----------------] - 48.00% - loss: 0.0014\n",
      "Epoch 3700/7500 [==============----------------] - 49.33% - loss: 0.0014\n",
      "Epoch 3800/7500 [===============---------------] - 50.67% - loss: 0.0014\n",
      "Epoch 3900/7500 [===============---------------] - 52.00% - loss: 0.0014\n",
      "Epoch 4000/7500 [================--------------] - 53.33% - loss: 0.0014\n",
      "Epoch 4100/7500 [================--------------] - 54.67% - loss: 0.0014\n",
      "Epoch 4200/7500 [================--------------] - 56.00% - loss: 0.0014\n",
      "Epoch 4300/7500 [=================-------------] - 57.33% - loss: 0.0014\n",
      "Epoch 4400/7500 [=================-------------] - 58.67% - loss: 0.0014\n",
      "Epoch 4500/7500 [==================------------] - 60.00% - loss: 0.0014\n",
      "Epoch 4600/7500 [==================------------] - 61.33% - loss: 0.0014\n",
      "Epoch 4700/7500 [==================------------] - 62.67% - loss: 0.0014\n",
      "Epoch 4800/7500 [===================-----------] - 64.00% - loss: 0.0014\n",
      "Epoch 4900/7500 [===================-----------] - 65.33% - loss: 0.0014\n",
      "Epoch 5000/7500 [====================----------] - 66.67% - loss: 0.0014\n",
      "Epoch 5100/7500 [====================----------] - 68.00% - loss: 0.0014\n",
      "Epoch 5200/7500 [====================----------] - 69.33% - loss: 0.0014\n",
      "Epoch 5300/7500 [=====================---------] - 70.67% - loss: 0.0014\n",
      "Epoch 5400/7500 [=====================---------] - 72.00% - loss: 0.0014\n",
      "Epoch 5500/7500 [======================--------] - 73.33% - loss: 0.0014\n",
      "Epoch 5600/7500 [======================--------] - 74.67% - loss: 0.0014\n",
      "Epoch 5700/7500 [======================--------] - 76.00% - loss: 0.0014\n",
      "Epoch 5800/7500 [=======================-------] - 77.33% - loss: 0.0014\n",
      "Epoch 5900/7500 [=======================-------] - 78.67% - loss: 0.0014\n",
      "Epoch 6000/7500 [========================------] - 80.00% - loss: 0.0014\n",
      "Epoch 6100/7500 [========================------] - 81.33% - loss: 0.0014\n",
      "Epoch 6200/7500 [========================------] - 82.67% - loss: 0.0014\n",
      "Epoch 6300/7500 [=========================-----] - 84.00% - loss: 0.0014\n",
      "Epoch 6400/7500 [=========================-----] - 85.33% - loss: 0.0014\n",
      "Epoch 6500/7500 [==========================----] - 86.67% - loss: 0.0014\n",
      "Epoch 6600/7500 [==========================----] - 88.00% - loss: 0.0014\n",
      "Epoch 6700/7500 [==========================----] - 89.33% - loss: 0.0014\n",
      "Epoch 6800/7500 [===========================---] - 90.67% - loss: 0.0014\n",
      "Epoch 6900/7500 [===========================---] - 92.00% - loss: 0.0014\n",
      "Epoch 7000/7500 [============================--] - 93.33% - loss: 0.0014\n",
      "Epoch 7100/7500 [============================--] - 94.67% - loss: 0.0014\n",
      "Epoch 7200/7500 [============================--] - 96.00% - loss: 0.0014\n",
      "Epoch 7300/7500 [=============================-] - 97.33% - loss: 0.0014\n",
      "Epoch 7400/7500 [=============================-] - 98.67% - loss: 0.0014\n",
      "Epoch 7500/7500 [==============================] - 100.00% - loss: 0.0014\n",
      "\n",
      "Computation time: 10056.84383392334 seconds\n"
     ]
    }
   ],
   "source": [
    "# Start timer\n",
    "t0 = time()\n",
    "progbar_logger.on_train_begin()\n",
    "for i in range(N+1):\n",
    "    progbar_logger.on_epoch_begin(i)\n",
    "    loss = 0\n",
    "    for j in range(n_batches):\n",
    "        loss = train_step(X_train[j], Y_train[j], Meanflow_train[j])\n",
    "        # Append current loss to hist\n",
    "        loss += loss.numpy()\n",
    "        # Update the custom callback with the current training loss\n",
    "        progbar_logger.on_batch_end(j, logs={'loss': loss})\n",
    "\n",
    "    # At the end of each epoch, call on_epoch_end to finalize the progress bar for the epoch\n",
    "    \n",
    "    \n",
    "    loss = loss/n_batches\n",
    "    hist[i] = loss\n",
    "    progbar_logger.on_epoch_end(i, logs={'loss': loss})\n",
    "        \n",
    "# Print computation time\n",
    "print('\\nComputation time: {} seconds'.format(time()-t0))"
   ]
  },
  {
   "cell_type": "code",
   "execution_count": 69,
   "metadata": {},
   "outputs": [
    {
     "name": "stdout",
     "output_type": "stream",
     "text": [
      "1/1 [==============================] - 0s 187ms/step\n"
     ]
    },
    {
     "name": "stderr",
     "output_type": "stream",
     "text": [
      "2023-07-26 00:22:46.237081: I tensorflow/core/grappler/optimizers/custom_graph_optimizer_registry.cc:114] Plugin optimizer for device_type GPU is enabled.\n"
     ]
    },
    {
     "name": "stdout",
     "output_type": "stream",
     "text": [
      "0.45214596\n"
     ]
    },
    {
     "data": {
      "text/plain": [
       "[<matplotlib.lines.Line2D at 0x17d708d90>,\n",
       " <matplotlib.lines.Line2D at 0x17d70bc70>,\n",
       " <matplotlib.lines.Line2D at 0x17d708dc0>]"
      ]
     },
     "execution_count": 69,
     "metadata": {},
     "output_type": "execute_result"
    },
    {
     "data": {
      "image/png": "[encoded data removed]",
      "text/plain": [
       "<Figure size 640x480 with 1 Axes>"
      ]
     },
     "metadata": {},
     "output_type": "display_data"
    }
   ],
   "source": [
    "r, f = model.predict(X_train[4])\n",
    "print(np.mean(f))\n",
    "\n",
    "plt.plot(X_train[4][:,1], Y_train[4])\n",
    "plt.plot(X_train[4][:,1], r, 'k-.')"
   ]
  },
  {
   "cell_type": "code",
   "execution_count": 70,
   "metadata": {},
   "outputs": [
    {
     "data": {
      "text/plain": [
       "[<matplotlib.lines.Line2D at 0x17a6ed570>]"
      ]
     },
     "execution_count": 70,
     "metadata": {},
     "output_type": "execute_result"
    },
    {
     "data": {
      "image/png": "[encoded data removed]",
      "text/plain": [
       "<Figure size 640x480 with 1 Axes>"
      ]
     },
     "metadata": {},
     "output_type": "display_data"
    }
   ],
   "source": [
    "plt.plot(hist)"
   ]
  }
 ],
 "metadata": {
  "kernelspec": {
   "display_name": "tensorflow",
   "language": "python",
   "name": "python3"
  },
  "language_info": {
   "codemirror_mode": {
    "name": "ipython",
    "version": 3
   },
   "file_extension": ".py",
   "mimetype": "text/x-python",
   "name": "python",
   "nbconvert_exporter": "python",
   "pygments_lexer": "ipython3",
   "version": "3.10.12"
  },
  "orig_nbformat": 4
 },
 "nbformat": 4,
 "nbformat_minor": 2
}
